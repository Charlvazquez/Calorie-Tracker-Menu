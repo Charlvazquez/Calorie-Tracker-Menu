{
 "cells": [
  {
   "cell_type": "code",
   "execution_count": 1,
   "metadata": {},
   "outputs": [],
   "source": [
    "from dataclasses import dataclass \n",
    "import numpy as np\n",
    "import matplotlib.pyplot as plt"
   ]
  },
  {
   "cell_type": "code",
   "execution_count": 2,
   "metadata": {},
   "outputs": [],
   "source": [
    "#condicionales \n",
    "Calorias_ganadas_limite = 3000 #kcal\n",
    "proteinas_ganadas = 180 # grams\n",
    "grasa_ganada = 80 #grams\n",
    "carbs_ganados = 300 #grams\n",
    "hoy = []"
   ]
  },
  {
   "cell_type": "code",
   "execution_count": 3,
   "metadata": {},
   "outputs": [],
   "source": [
    "#estructura para guardado de datos\n",
    "@dataclass\n",
    "class Comida:\n",
    "    nombre: str\n",
    "    calorias: int\n",
    "    proteinas: int\n",
    "    grasa: int\n",
    "    carbs: int\n",
    "        "
   ]
  },
  {
   "cell_type": "code",
   "execution_count": 5,
   "metadata": {},
   "outputs": [
    {
     "name": "stdout",
     "output_type": "stream",
     "text": [
      "\n",
      "    (1) Agregar nueva comida\n",
      "    (2) Vizualizar progeso\n",
      "    (3) Salir\n",
      "    \n",
      "Escoge una opcion:1\n",
      "Agregar nueva comida!\n",
      "Nombre:pozole\n",
      "Calorias:500\n",
      "Proteinas:80\n",
      "Grasa:600\n",
      "Carbs:340\n",
      "Comida Agregada!\n",
      "\n",
      "    (1) Agregar nueva comida\n",
      "    (2) Vizualizar progeso\n",
      "    (3) Salir\n",
      "    \n",
      "Escoge una opcion:2\n"
     ]
    },
    {
     "data": {
      "image/png": "[encoded data removed]",
      "text/plain": [
       "<Figure size 432x288 with 4 Axes>"
      ]
     },
     "metadata": {
      "needs_background": "light"
     },
     "output_type": "display_data"
    },
    {
     "name": "stdout",
     "output_type": "stream",
     "text": [
      "\n",
      "    (1) Agregar nueva comida\n",
      "    (2) Vizualizar progeso\n",
      "    (3) Salir\n",
      "    \n",
      "Escoge una opcion:3\n"
     ]
    }
   ],
   "source": [
    "hecho = False\n",
    "#menu para eleccion de opciones\n",
    "while not hecho:\n",
    "    print(\"\"\"\n",
    "    (1) Agregar nueva comida\n",
    "    (2) Vizualizar progeso\n",
    "    (3) Salir\n",
    "    \"\"\")\n",
    "    opcion = input(\"Escoge una opcion:\")\n",
    "    if opcion == \"1\":\n",
    "        print(\"Agregar nueva comida!\")\n",
    "        nombre = input(\"Nombre:\")\n",
    "        calorias= int(input(\"Calorias:\"))\n",
    "        proteinas= int(input(\"Proteinas:\"))\n",
    "        grasa = int(input(\"Grasa:\"))\n",
    "        carbs = int(input(\"Carbs:\"))\n",
    "        comida= Comida(nombre,calorias,proteinas,grasa,carbs)\n",
    "        hoy.append(comida)\n",
    "        print(\"Comida Agregada!\")\n",
    "    elif opcion ==\"2\":\n",
    "        #opciones de las cuales nos basaremos en las graficas\n",
    "        suma_calorias = sum(comida.calorias for comida in hoy)\n",
    "        suma_proteinas = sum(comida.proteinas for comida in hoy)\n",
    "        suma_grasa = sum(comida.grasa for comida in hoy)\n",
    "        suma_carbs = sum(comida.carbs for comida in hoy)\n",
    "        fig,axs = plt.subplots(2,2)\n",
    "        \n",
    "        axs[0,0].pie([suma_proteinas,suma_grasa,suma_carbs], labels=[\"Proteinas\",\"Grasa\",\"Carbohidratos\"],autopct=\"%1.1f%%\")\n",
    "        axs[0,0].set_title(\"Distribucion de Macronutrientes\")\n",
    "        \n",
    "        axs[0,1].bar([0,1,2],[suma_proteinas,suma_grasa,suma_carbs], width=0.4)\n",
    "        axs[0,1].bar([0.5,1.5,2.5],[proteinas_ganadas,grasa_ganada,carbs_ganados], width=0.4)\n",
    "        axs[0,1].set_title(\"Progreso de Macronutrientes\")\n",
    "        \n",
    "        axs[1,0].pie([suma_calorias,Calorias_ganadas_limite - suma_calorias], labels=[\"Calorias\",\"Restante\"],autopct=\"%1.1f%%\")\n",
    "        axs[1,0].set_title(\"Progreso de calorias ganadas\")\n",
    "        \n",
    "        axs[1,1].plot(list(range(len(hoy))),np.cumsum([comida.calorias for comida in hoy]), label=\"Calorias Comidas\")\n",
    "        axs[1,1].plot(list(range(len(hoy))),[Calorias_ganadas_limite] * len(hoy),label=\"Caloria ganada\")\n",
    "        axs[1,1].legend()\n",
    "        axs[1,1].set_title(\"Calorias ganadas cada dia\")\n",
    "        fig.tight_layout()\n",
    "        plt.show()\n",
    "    elif opcion == \"3\":\n",
    "        hecho = True\n",
    "    else:\n",
    "        print(\"Opcion invalida\")\n",
    "        "
   ]
  },
  {
   "cell_type": "code",
   "execution_count": null,
   "metadata": {},
   "outputs": [],
   "source": [
    "\"\""
   ]
  },
  {
   "cell_type": "code",
   "execution_count": null,
   "metadata": {},
   "outputs": [],
   "source": []
  }
 ],
 "metadata": {
  "kernelspec": {
   "display_name": "Python 3",
   "language": "python",
   "name": "python3"
  },
  "language_info": {
   "codemirror_mode": {
    "name": "ipython",
    "version": 3
   },
   "file_extension": ".py",
   "mimetype": "text/x-python",
   "name": "python",
   "nbconvert_exporter": "python",
   "pygments_lexer": "ipython3",
   "version": "3.7.6"
  }
 },
 "nbformat": 4,
 "nbformat_minor": 4
}
